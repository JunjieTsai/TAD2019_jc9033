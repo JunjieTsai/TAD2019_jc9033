{
 "cells": [
  {
   "cell_type": "code",
   "execution_count": 1,
   "metadata": {
    "ExecuteTime": {
     "end_time": "2019-05-12T21:08:37.291738Z",
     "start_time": "2019-05-12T21:08:36.720264Z"
    }
   },
   "outputs": [],
   "source": [
    "import pandas as pd\n",
    "from functools import reduce"
   ]
  },
  {
   "cell_type": "markdown",
   "metadata": {},
   "source": [
    "## Marvel"
   ]
  },
  {
   "cell_type": "code",
   "execution_count": 2,
   "metadata": {
    "ExecuteTime": {
     "end_time": "2019-05-12T21:08:37.426374Z",
     "start_time": "2019-05-12T21:08:37.295725Z"
    }
   },
   "outputs": [
    {
     "name": "stdout",
     "output_type": "stream",
     "text": [
      "(21186, 4)\n"
     ]
    },
    {
     "data": {
      "text/html": [
       "<div>\n",
       "<style scoped>\n",
       "    .dataframe tbody tr th:only-of-type {\n",
       "        vertical-align: middle;\n",
       "    }\n",
       "\n",
       "    .dataframe tbody tr th {\n",
       "        vertical-align: top;\n",
       "    }\n",
       "\n",
       "    .dataframe thead th {\n",
       "        text-align: right;\n",
       "    }\n",
       "</style>\n",
       "<table border=\"1\" class=\"dataframe\">\n",
       "  <thead>\n",
       "    <tr style=\"text-align: right;\">\n",
       "      <th></th>\n",
       "      <th>name</th>\n",
       "      <th>review</th>\n",
       "      <th>stars</th>\n",
       "      <th>date</th>\n",
       "    </tr>\n",
       "  </thead>\n",
       "  <tbody>\n",
       "    <tr>\n",
       "      <th>0</th>\n",
       "      <td>Captain America: The First Avenger</td>\n",
       "      <td>Captain America: The First Avenger might not...</td>\n",
       "      <td>3.5</td>\n",
       "      <td>April 11, 2019</td>\n",
       "    </tr>\n",
       "    <tr>\n",
       "      <th>1</th>\n",
       "      <td>Captain America: The First Avenger</td>\n",
       "      <td>It starts well, but later, it goes like a ca...</td>\n",
       "      <td>3.0</td>\n",
       "      <td>April 11, 2019</td>\n",
       "    </tr>\n",
       "    <tr>\n",
       "      <th>2</th>\n",
       "      <td>Captain America: The First Avenger</td>\n",
       "      <td>Chris Evans, with a physique so chiseled, ca...</td>\n",
       "      <td>2.0</td>\n",
       "      <td>April 9, 2019</td>\n",
       "    </tr>\n",
       "    <tr>\n",
       "      <th>3</th>\n",
       "      <td>Captain America: The First Avenger</td>\n",
       "      <td>(78/100)Captain America: The First Avenger i...</td>\n",
       "      <td>4.0</td>\n",
       "      <td>April 8, 2019</td>\n",
       "    </tr>\n",
       "    <tr>\n",
       "      <th>4</th>\n",
       "      <td>Captain America: The First Avenger</td>\n",
       "      <td>The overly patriotic aspect of the character...</td>\n",
       "      <td>1.0</td>\n",
       "      <td>April 7, 2019</td>\n",
       "    </tr>\n",
       "  </tbody>\n",
       "</table>\n",
       "</div>"
      ],
      "text/plain": [
       "                                 name  \\\n",
       "0  Captain America: The First Avenger   \n",
       "1  Captain America: The First Avenger   \n",
       "2  Captain America: The First Avenger   \n",
       "3  Captain America: The First Avenger   \n",
       "4  Captain America: The First Avenger   \n",
       "\n",
       "                                              review  stars            date  \n",
       "0    Captain America: The First Avenger might not...    3.5  April 11, 2019  \n",
       "1    It starts well, but later, it goes like a ca...    3.0  April 11, 2019  \n",
       "2    Chris Evans, with a physique so chiseled, ca...    2.0   April 9, 2019  \n",
       "3    (78/100)Captain America: The First Avenger i...    4.0   April 8, 2019  \n",
       "4    The overly patriotic aspect of the character...    1.0   April 7, 2019  "
      ]
     },
     "execution_count": 2,
     "metadata": {},
     "output_type": "execute_result"
    }
   ],
   "source": [
    "mv = pd.read_csv('Reviews_Marvel.csv')\n",
    "print(mv.shape)\n",
    "mv.head()"
   ]
  },
  {
   "cell_type": "code",
   "execution_count": 3,
   "metadata": {
    "ExecuteTime": {
     "end_time": "2019-05-12T21:08:37.432358Z",
     "start_time": "2019-05-12T21:08:37.428369Z"
    }
   },
   "outputs": [],
   "source": [
    "def reducer1(df_filterbymovie):\n",
    "    return reduce(lambda x, y: x+\" \"+y, df_filterbymovie['review'])"
   ]
  },
  {
   "cell_type": "code",
   "execution_count": 4,
   "metadata": {
    "ExecuteTime": {
     "end_time": "2019-05-12T21:08:37.642817Z",
     "start_time": "2019-05-12T21:08:37.435351Z"
    }
   },
   "outputs": [],
   "source": [
    "movielist_mv = list(mv.name.unique())\n",
    "reviewlist_mv = []\n",
    "for moviename in movielist_mv:\n",
    "    df_filterbymovie = mv[mv['name'] == moviename]\n",
    "    reviewlist_mv.append(reducer1(df_filterbymovie))"
   ]
  },
  {
   "cell_type": "code",
   "execution_count": 5,
   "metadata": {
    "ExecuteTime": {
     "end_time": "2019-05-12T21:08:38.495548Z",
     "start_time": "2019-05-12T21:08:37.645786Z"
    }
   },
   "outputs": [
    {
     "name": "stdout",
     "output_type": "stream",
     "text": [
      "(21, 2)\n"
     ]
    }
   ],
   "source": [
    "mv_groupby = pd.DataFrame(\n",
    "    {'name': movielist_mv,\n",
    "     'review': reviewlist_mv,\n",
    "    })\n",
    "print(mv_groupby.shape)\n",
    "mv_groupby.head()\n",
    "mv_groupby.to_csv(\"Reviews_Marvel_GroupbyMovie.csv\")"
   ]
  },
  {
   "cell_type": "code",
   "execution_count": null,
   "metadata": {
    "ExecuteTime": {
     "end_time": "2019-05-12T21:10:20.829472Z",
     "start_time": "2019-05-12T21:10:20.819497Z"
    }
   },
   "outputs": [],
   "source": [
    "mv_groupby['review'][1]"
   ]
  },
  {
   "cell_type": "markdown",
   "metadata": {},
   "source": [
    "## DC"
   ]
  },
  {
   "cell_type": "code",
   "execution_count": 8,
   "metadata": {
    "ExecuteTime": {
     "end_time": "2019-05-12T21:09:56.041014Z",
     "start_time": "2019-05-12T21:09:55.854476Z"
    }
   },
   "outputs": [
    {
     "name": "stdout",
     "output_type": "stream",
     "text": [
      "(40385, 4)\n"
     ]
    },
    {
     "data": {
      "text/html": [
       "<div>\n",
       "<style scoped>\n",
       "    .dataframe tbody tr th:only-of-type {\n",
       "        vertical-align: middle;\n",
       "    }\n",
       "\n",
       "    .dataframe tbody tr th {\n",
       "        vertical-align: top;\n",
       "    }\n",
       "\n",
       "    .dataframe thead th {\n",
       "        text-align: right;\n",
       "    }\n",
       "</style>\n",
       "<table border=\"1\" class=\"dataframe\">\n",
       "  <thead>\n",
       "    <tr style=\"text-align: right;\">\n",
       "      <th></th>\n",
       "      <th>name</th>\n",
       "      <th>review</th>\n",
       "      <th>stars</th>\n",
       "      <th>date</th>\n",
       "    </tr>\n",
       "  </thead>\n",
       "  <tbody>\n",
       "    <tr>\n",
       "      <th>0</th>\n",
       "      <td>Superman and the Mole-Men</td>\n",
       "      <td>An average b-movie of the early 50s, precedi...</td>\n",
       "      <td>2.0</td>\n",
       "      <td>April 6, 2019</td>\n",
       "    </tr>\n",
       "    <tr>\n",
       "      <th>1</th>\n",
       "      <td>Superman and the Mole-Men</td>\n",
       "      <td>About what you would expect. Not that much a...</td>\n",
       "      <td>2.0</td>\n",
       "      <td>May 7, 2017</td>\n",
       "    </tr>\n",
       "    <tr>\n",
       "      <th>2</th>\n",
       "      <td>Superman and the Mole-Men</td>\n",
       "      <td>A charming little tale where the villains ar...</td>\n",
       "      <td>3.0</td>\n",
       "      <td>June 15, 2015</td>\n",
       "    </tr>\n",
       "    <tr>\n",
       "      <th>3</th>\n",
       "      <td>Superman and the Mole-Men</td>\n",
       "      <td>Where to even begin? For starters, this is m...</td>\n",
       "      <td>3.0</td>\n",
       "      <td>June 8, 2015</td>\n",
       "    </tr>\n",
       "    <tr>\n",
       "      <th>4</th>\n",
       "      <td>Superman and the Mole-Men</td>\n",
       "      <td>terrible. superman is only in it for like 2 ...</td>\n",
       "      <td>0.5</td>\n",
       "      <td>September 29, 2014</td>\n",
       "    </tr>\n",
       "  </tbody>\n",
       "</table>\n",
       "</div>"
      ],
      "text/plain": [
       "                        name  \\\n",
       "0  Superman and the Mole-Men   \n",
       "1  Superman and the Mole-Men   \n",
       "2  Superman and the Mole-Men   \n",
       "3  Superman and the Mole-Men   \n",
       "4  Superman and the Mole-Men   \n",
       "\n",
       "                                              review  stars  \\\n",
       "0    An average b-movie of the early 50s, precedi...    2.0   \n",
       "1    About what you would expect. Not that much a...    2.0   \n",
       "2    A charming little tale where the villains ar...    3.0   \n",
       "3    Where to even begin? For starters, this is m...    3.0   \n",
       "4    terrible. superman is only in it for like 2 ...    0.5   \n",
       "\n",
       "                 date  \n",
       "0       April 6, 2019  \n",
       "1         May 7, 2017  \n",
       "2       June 15, 2015  \n",
       "3        June 8, 2015  \n",
       "4  September 29, 2014  "
      ]
     },
     "execution_count": 8,
     "metadata": {},
     "output_type": "execute_result"
    }
   ],
   "source": [
    "dc = pd.read_csv('Reviews_DC.csv')\n",
    "print(dc.shape)\n",
    "dc.head()"
   ]
  },
  {
   "cell_type": "code",
   "execution_count": 9,
   "metadata": {
    "ExecuteTime": {
     "end_time": "2019-05-12T21:09:56.047001Z",
     "start_time": "2019-05-12T21:09:56.042975Z"
    }
   },
   "outputs": [],
   "source": [
    "def reducer1(df_filterbymovie):\n",
    "    return reduce(lambda x, y: x+\" \"+y, df_filterbymovie['review'])"
   ]
  },
  {
   "cell_type": "code",
   "execution_count": 10,
   "metadata": {
    "ExecuteTime": {
     "end_time": "2019-05-12T21:09:56.459289Z",
     "start_time": "2019-05-12T21:09:56.047959Z"
    }
   },
   "outputs": [],
   "source": [
    "movielist_dc = list(dc.name.unique())\n",
    "reviewlist_dc = []\n",
    "for moviename in movielist_dc:\n",
    "    df_filterbymovie = dc[dc['name'] == moviename]\n",
    "    reviewlist_dc.append(reducer1(df_filterbymovie))"
   ]
  },
  {
   "cell_type": "code",
   "execution_count": 11,
   "metadata": {
    "ExecuteTime": {
     "end_time": "2019-05-12T21:09:56.694271Z",
     "start_time": "2019-05-12T21:09:56.460858Z"
    }
   },
   "outputs": [
    {
     "name": "stdout",
     "output_type": "stream",
     "text": [
      "(46, 2)\n"
     ]
    }
   ],
   "source": [
    "dc_groupby = pd.DataFrame(\n",
    "    {'name': movielist_dc,\n",
    "     'review': reviewlist_dc,\n",
    "    })\n",
    "print(dc_groupby.shape)\n",
    "dc_groupby.head()\n",
    "dc_groupby.to_csv(\"Reviews_DC_GroupbyMovie.csv\")"
   ]
  },
  {
   "cell_type": "code",
   "execution_count": null,
   "metadata": {
    "ExecuteTime": {
     "end_time": "2019-05-12T21:10:09.319483Z",
     "start_time": "2019-05-12T21:10:09.301521Z"
    }
   },
   "outputs": [],
   "source": [
    "dc_groupby['review'][1]"
   ]
  }
 ],
 "metadata": {
  "kernelspec": {
   "display_name": "Python 3",
   "language": "python",
   "name": "python3"
  },
  "language_info": {
   "codemirror_mode": {
    "name": "ipython",
    "version": 3
   },
   "file_extension": ".py",
   "mimetype": "text/x-python",
   "name": "python",
   "nbconvert_exporter": "python",
   "pygments_lexer": "ipython3",
   "version": "3.6.8"
  },
  "toc": {
   "base_numbering": 1,
   "nav_menu": {},
   "number_sections": true,
   "sideBar": true,
   "skip_h1_title": false,
   "title_cell": "Table of Contents",
   "title_sidebar": "Contents",
   "toc_cell": false,
   "toc_position": {},
   "toc_section_display": true,
   "toc_window_display": false
  }
 },
 "nbformat": 4,
 "nbformat_minor": 2
}
